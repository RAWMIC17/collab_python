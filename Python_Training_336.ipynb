{
  "nbformat": 4,
  "nbformat_minor": 0,
  "metadata": {
    "colab": {
      "provenance": [],
      "authorship_tag": "ABX9TyMC1sEBzrHivM68EQfZBaFe",
      "include_colab_link": true
    },
    "kernelspec": {
      "name": "python3",
      "display_name": "Python 3"
    },
    "language_info": {
      "name": "python"
    }
  },
  "cells": [
    {
      "cell_type": "markdown",
      "metadata": {
        "id": "view-in-github",
        "colab_type": "text"
      },
      "source": [
        "<a href=\"https://colab.research.google.com/github/RAWMIC17/collab_python/blob/main/Python_Training_336.ipynb\" target=\"_parent\"><img src=\"https://colab.research.google.com/assets/colab-badge.svg\" alt=\"Open In Colab\"/></a>"
      ]
    },
    {
      "cell_type": "code",
      "execution_count": 3,
      "metadata": {
        "id": "Qdi5IJyJZvkq",
        "colab": {
          "base_uri": "https://localhost:8080/"
        },
        "outputId": "115635e1-aa24-4f5e-a647-e416b1a1b955"
      },
      "outputs": [
        {
          "output_type": "stream",
          "name": "stdout",
          "text": [
            "Enter Amount: 1231\n",
            "984.8\n"
          ]
        }
      ],
      "source": [
        "#Q1 Harsh\n",
        "A=float(input(\"Enter Amount: \"))\n",
        "if A>1000:\n",
        "  A-=(A*0.2)\n",
        "elif A<=1000 and A>=500:\n",
        "  A-=(A*0.1)\n",
        "else:\n",
        "  print(\"No discount Applied\")\n",
        "print(A)"
      ]
    },
    {
      "cell_type": "code",
      "source": [
        "#Q2\n",
        "N=int(input(\"Enter Marks: \"))\n",
        "if N>=90 and N<=100:\n",
        "  print(\"Grade A\")\n",
        "elif N>=70 and N<=89:\n",
        "  print(\"Grade B\")\n",
        "elif N>=50 and N<=69:\n",
        "  print(\"Grade C\")\n",
        "elif N>=0 and N<50:\n",
        "  print(\"Fail\")\n",
        "else:\n",
        "  print(\"Invalid Score\")"
      ],
      "metadata": {
        "colab": {
          "base_uri": "https://localhost:8080/"
        },
        "id": "CyZc9wg59bXy",
        "outputId": "7fb306dc-69ea-47ec-9e8d-a882d7099b2c"
      },
      "execution_count": 4,
      "outputs": [
        {
          "output_type": "stream",
          "name": "stdout",
          "text": [
            "Enter Marks: 44\n",
            "Fail\n"
          ]
        }
      ]
    },
    {
      "cell_type": "code",
      "source": [
        "#Q3\n",
        "N=int(input(\"Enter Age: \"))\n",
        "if N>=0 and N<13:\n",
        "  print(\"Child\")\n",
        "elif N>=13 and N<=19:\n",
        "  print(\"Teen\")\n",
        "elif N>=20 and N<=59:\n",
        "  print(\"Adult\")\n",
        "else:\n",
        "  print(\"Senior\")"
      ],
      "metadata": {
        "colab": {
          "base_uri": "https://localhost:8080/"
        },
        "id": "s84xD5Hx_3SO",
        "outputId": "e7a214c4-1fbb-4545-881a-ae5a3480f533"
      },
      "execution_count": 6,
      "outputs": [
        {
          "output_type": "stream",
          "name": "stdout",
          "text": [
            "Enter Age: 999\n",
            "Senior\n"
          ]
        }
      ]
    },
    {
      "cell_type": "code",
      "source": [
        "#Q4\n",
        "N=int(input(\"Enter a number: \"))\n",
        "if N%2==0:\n",
        "  if(N%5==0):\n",
        "    print(\"Even and divisible by 5\")\n",
        "  else:\n",
        "    print(\"Even and not divisible by 5\")\n",
        "else:\n",
        "  if(N%5==0):\n",
        "    print(\"Odd and divisible by 5\")\n",
        "  else:\n",
        "    print(\"Odd and not divisible by 5\")"
      ],
      "metadata": {
        "colab": {
          "base_uri": "https://localhost:8080/"
        },
        "id": "vnvUbn2EAs0z",
        "outputId": "a2ea3afd-8d6f-405e-941c-3d56bc4f30ec"
      },
      "execution_count": 8,
      "outputs": [
        {
          "output_type": "stream",
          "name": "stdout",
          "text": [
            "Enter a number: 35\n",
            "Odd and divisible by 5\n"
          ]
        }
      ]
    },
    {
      "cell_type": "code",
      "source": [
        "#Q5\n",
        "S=input(\"Enter Username: \")\n",
        "if S==\"john\" or S==\"amy\" or S==\"sita\":\n",
        "  print(\"Login Success\")\n",
        "else:\n",
        "  print(\"Login Failed\")"
      ],
      "metadata": {
        "colab": {
          "base_uri": "https://localhost:8080/"
        },
        "id": "eC0B3xM4BMZo",
        "outputId": "072fc5bb-f2a6-43d0-99a1-d5680dae031a"
      },
      "execution_count": 9,
      "outputs": [
        {
          "output_type": "stream",
          "name": "stdout",
          "text": [
            "Enter Username: amy\n",
            "Login Success\n"
          ]
        }
      ]
    },
    {
      "cell_type": "code",
      "source": [
        "#Q6\n",
        "N=int(input(\"Enter N: \"))\n",
        "M=int(input(\"Enter M: \"))\n",
        "\n",
        "if N==M:\n",
        "  print(\"Equal\")\n",
        "else:\n",
        "  if(N>M):\n",
        "    print(f\"{N} is greater\")\n",
        "  else:\n",
        "    print(f\"{M} is greater\")"
      ],
      "metadata": {
        "colab": {
          "base_uri": "https://localhost:8080/"
        },
        "id": "5F826VbuB0MJ",
        "outputId": "a8954b52-7b62-4ea8-d06b-0991a3eed96b"
      },
      "execution_count": 10,
      "outputs": [
        {
          "output_type": "stream",
          "name": "stdout",
          "text": [
            "Enter N: 5\n",
            "Enter M: 5\n",
            "Equal\n"
          ]
        }
      ]
    },
    {
      "cell_type": "code",
      "source": [
        "#Q7\n",
        "A=int(input(\"Enter Age: \"))\n",
        "if A>=18:\n",
        "  print(\"Eligible for Voting\")\n",
        "  if(A>=21):\n",
        "    print(\"Eligible for Driving\")\n",
        "else:\n",
        "  print(\"Not eligible\")"
      ],
      "metadata": {
        "colab": {
          "base_uri": "https://localhost:8080/"
        },
        "id": "a7lQm9mCCrXM",
        "outputId": "c9494f68-1beb-4c2d-c501-824205834624"
      },
      "execution_count": 12,
      "outputs": [
        {
          "output_type": "stream",
          "name": "stdout",
          "text": [
            "Enter Age: 21\n",
            "Eligible for Driving\n",
            "Eligible for Voting\n"
          ]
        }
      ]
    },
    {
      "cell_type": "code",
      "source": [
        "#Q8\n",
        "N=int(input(\"Enter year: \"))\n",
        "if N%400==0 or (N%4==0 and N%100!=0):\n",
        "    print(\"Leap year\")\n",
        "\n"
      ],
      "metadata": {
        "colab": {
          "base_uri": "https://localhost:8080/"
        },
        "id": "l3pBjgsoDWLG",
        "outputId": "77ae115f-0470-473a-a4be-036b619c62fe"
      },
      "execution_count": 16,
      "outputs": [
        {
          "output_type": "stream",
          "name": "stdout",
          "text": [
            "Enter year: 2024\n",
            "Leap year\n"
          ]
        }
      ]
    },
    {
      "cell_type": "code",
      "source": [
        "#Q9\n",
        "a=\"john\"\n",
        "b=\"amy\"\n",
        "c=\"sita\"\n",
        "d=\"admin\"\n",
        "e=\"manager\"\n",
        "\n",
        "x=input(\"Enter username: \")\n",
        "y=input(\"Enter role: \")\n",
        "\n",
        "if x==a or x==b or x==c:\n",
        "  if y==d or y==e:\n",
        "    print(\"Login Success\")\n",
        "  else:\n",
        "     print(\"Login Failed\")\n",
        "else:\n",
        "  print(\"Wrong Username\")"
      ],
      "metadata": {
        "colab": {
          "base_uri": "https://localhost:8080/"
        },
        "id": "K6_AJiFgFg-Y",
        "outputId": "c97128bc-0957-4f5a-b056-691d174af2fb"
      },
      "execution_count": 17,
      "outputs": [
        {
          "output_type": "stream",
          "name": "stdout",
          "text": [
            "Enter username: amy\n",
            "Enter role: admin\n",
            "Login Success\n"
          ]
        }
      ]
    },
    {
      "cell_type": "code",
      "source": [
        "#Q10\n",
        "n=float(input(\"Enter n: \"))\n",
        "m=float(input(\"Enter m: \"))\n",
        "x=input(\"Enter operation: \")\n",
        "\n",
        "if x==\"+\":\n",
        "  n+=m\n",
        "elif x==\"-\":\n",
        "  n-=m\n",
        "elif x==\"/\" and m!=0:\n",
        "  n/=m\n",
        "elif x==\"*\":\n",
        "  n*=m\n",
        "print(n)"
      ],
      "metadata": {
        "colab": {
          "base_uri": "https://localhost:8080/"
        },
        "id": "D9h9IrudG9Z6",
        "outputId": "3fe13329-6652-464a-8e75-3e97c19404ba"
      },
      "execution_count": 18,
      "outputs": [
        {
          "output_type": "stream",
          "name": "stdout",
          "text": [
            "Enter n: 5\n",
            "Enter m: 10\n",
            "Enter operation: *\n",
            "50.0\n"
          ]
        }
      ]
    },
    {
      "cell_type": "code",
      "source": [
        "#Q11\n",
        "t=int(input(\"Enter temperature: \"))\n",
        "if t>40:\n",
        "  print(\"Heat Alert\")\n",
        "elif t>30 and t<=40:\n",
        "  print(\"Warm\")\n",
        "elif t<=30:\n",
        "  print(\"Normal\")\n"
      ],
      "metadata": {
        "colab": {
          "base_uri": "https://localhost:8080/"
        },
        "id": "HpFmXmEgIIgV",
        "outputId": "ae6879cb-ec73-494b-e166-070c5b4dcd61"
      },
      "execution_count": 20,
      "outputs": [
        {
          "output_type": "stream",
          "name": "stdout",
          "text": [
            "Enter temperature: 44\n",
            "Heat Alert\n"
          ]
        }
      ]
    },
    {
      "cell_type": "code",
      "source": [
        "#Q12\n",
        "s=input(\"Enter password: \")\n",
        "l=0;\n",
        "\n",
        "for i in s:\n",
        "  l+=1\n",
        "\n",
        "if l>=8:\n",
        "  if \"@\" in s:\n",
        "    print(\"Secure password\")\n",
        ""
      ],
      "metadata": {
        "colab": {
          "base_uri": "https://localhost:8080/"
        },
        "id": "o9kxokG-MHls",
        "outputId": "a2a609f5-359d-4932-bc0a-650b146f2d24"
      },
      "execution_count": 21,
      "outputs": [
        {
          "output_type": "stream",
          "name": "stdout",
          "text": [
            "Enter password: harshd@3424\n",
            "Secure password\n"
          ]
        }
      ]
    },
    {
      "cell_type": "code",
      "source": [
        "#Q13\n",
        "a=int(input(\"Enter amount: \"))\n",
        "if a%100==0:\n",
        "  W=int(input(\"Enter withdrawl amount: \"))\n",
        "  if W%100==0:\n",
        "    a-=W\n",
        "    print(f\"Balance: {a}, Amount Withdrawn: {W}\")"
      ],
      "metadata": {
        "colab": {
          "base_uri": "https://localhost:8080/"
        },
        "id": "m838YI2JNKK1",
        "outputId": "27818036-b149-4871-dfd8-722c25fe3bd8"
      },
      "execution_count": 22,
      "outputs": [
        {
          "output_type": "stream",
          "name": "stdout",
          "text": [
            "Enter amount: 10000\n",
            "Enter withdrawl amount: 5000\n",
            "Balance: 5000, Amount Withdrawn: 5000\n"
          ]
        }
      ]
    },
    {
      "cell_type": "code",
      "source": [
        "#Q14\n",
        "N=int(input(\"Enter a number: \"))\n",
        "if N%3==0:\n",
        "  if(N%5==0):\n",
        "    print(\"Divisible by both 3 and 5\")\n",
        "  else:\n",
        "    print(\"Divisible by 3\")\n",
        "else:\n",
        "  if(N%5==0):\n",
        "    print(\"Divisible by 5\")\n",
        "  else:\n",
        "    print(\"Not divisible by 3 and 5\")"
      ],
      "metadata": {
        "colab": {
          "base_uri": "https://localhost:8080/"
        },
        "id": "Kk2B8Sj_OImm",
        "outputId": "98d83050-646a-4ebf-bd04-9057e1f03a4e"
      },
      "execution_count": 23,
      "outputs": [
        {
          "output_type": "stream",
          "name": "stdout",
          "text": [
            "Enter a number: 15\n",
            "Divisible by 3 and 5\n"
          ]
        }
      ]
    },
    {
      "cell_type": "code",
      "source": [
        "#Q15\n",
        "a=\"pencil\"\n",
        "b=\"pen\"\n",
        "c=\"eraser\"\n",
        "p=input(\"Enter product: \")\n",
        "\n",
        "if p==a or p==b or p==c:\n",
        "  print(\"Product is available\")\n",
        "else:\n",
        "  print(\"Not Available\")"
      ],
      "metadata": {
        "colab": {
          "base_uri": "https://localhost:8080/"
        },
        "id": "8ciT7aFlQFzx",
        "outputId": "410d58b4-9b24-4e52-9cf7-fce650318779"
      },
      "execution_count": 24,
      "outputs": [
        {
          "output_type": "stream",
          "name": "stdout",
          "text": [
            "Enter product: pen\n",
            "Product is available\n"
          ]
        }
      ]
    },
    {
      "cell_type": "code",
      "source": [
        "#Q16\n",
        "a=int(input(\"Enter side 1: \"))\n",
        "b=int(input(\"Enter side 2: \"))\n",
        "c=int(input(\"Enter side 3: \"))\n",
        "\n",
        "if a+b>c or b+c>a or c+a>b:\n",
        "  print(\"Valid trianlge\")\n",
        "else:\n",
        "  print(\"Not Valid\")"
      ],
      "metadata": {
        "colab": {
          "base_uri": "https://localhost:8080/"
        },
        "id": "CaqcBBONSIF6",
        "outputId": "faca30a6-0d92-4097-8c8a-66f0fc2f1572"
      },
      "execution_count": 27,
      "outputs": [
        {
          "output_type": "stream",
          "name": "stdout",
          "text": [
            "Enter side 1: 3\n",
            "Enter side 2: 4\n",
            "Enter side 3: 2\n",
            "Valid trianlge\n"
          ]
        }
      ]
    },
    {
      "cell_type": "code",
      "source": [
        "#Q17\n",
        "a=int(input(\"Enter number 1: \"))\n",
        "b=int(input(\"Enter number 2: \"))\n",
        "c=int(input(\"Enter number 3: \"))\n",
        "\n",
        "if a>b and a>c:\n",
        "  print(f\"{a} is greatest\")\n",
        "if b>a and b>c:\n",
        "  print(f\"{b} is greatest\")\n",
        "if c>a and c>b:\n",
        "  print(f\"{c} is greatest\")"
      ],
      "metadata": {
        "colab": {
          "base_uri": "https://localhost:8080/"
        },
        "id": "cJJoilZLT1Xz",
        "outputId": "5235fda0-c971-40e3-cc4c-01c24ea0c5c0"
      },
      "execution_count": 30,
      "outputs": [
        {
          "output_type": "stream",
          "name": "stdout",
          "text": [
            "Enter number 1: 1\n",
            "Enter number 2: 2\n",
            "Enter number 3: 3\n",
            "3 is greatest\n"
          ]
        }
      ]
    },
    {
      "cell_type": "code",
      "source": [
        "#Q18\n",
        "n=int(input(\"Enter marks: \"))\n",
        "\n",
        "if n>0 and n<=100:\n",
        "  print(\"Marks are valid\")\n",
        "else:\n",
        "  print(\"Marks are invalid\")"
      ],
      "metadata": {
        "colab": {
          "base_uri": "https://localhost:8080/"
        },
        "id": "3lQInKgaVTDR",
        "outputId": "c7a07670-7ebd-4dab-9f39-cafb85a84935"
      },
      "execution_count": 31,
      "outputs": [
        {
          "output_type": "stream",
          "name": "stdout",
          "text": [
            "Enter marks: 99\n",
            "Marks are valid\n"
          ]
        }
      ]
    },
    {
      "cell_type": "code",
      "source": [
        "#Q19\n",
        "u=\"john\"\n",
        "p=\"1234\"\n",
        "\n",
        "x=input(\"Enter Username: \")\n",
        "y=input(\"Enter Password: \")\n",
        "\n",
        "if x==u and p==y:\n",
        "  print(\"Login Success\")\n",
        "else:\n",
        "  print(\"Login Failed\")"
      ],
      "metadata": {
        "id": "kPqX9z4ZUyLA"
      },
      "execution_count": null,
      "outputs": []
    },
    {
      "cell_type": "code",
      "source": [
        "#20\n",
        "n=int(input(\"Enter bill units: \"))\n",
        "if n>0 and n<=100:\n",
        "  n*=5\n",
        "elif n>100 and n<200:\n",
        "  n*=7\n",
        "elif n>=200:\n",
        "  n*=10\n",
        "print(n)"
      ],
      "metadata": {
        "colab": {
          "base_uri": "https://localhost:8080/"
        },
        "id": "x1gI8-TFWKD2",
        "outputId": "e3571572-64c5-4812-ea20-73dba5a08b24"
      },
      "execution_count": 33,
      "outputs": [
        {
          "output_type": "stream",
          "name": "stdout",
          "text": [
            "Enter bill units: 130\n",
            "910\n"
          ]
        }
      ]
    }
  ]
}